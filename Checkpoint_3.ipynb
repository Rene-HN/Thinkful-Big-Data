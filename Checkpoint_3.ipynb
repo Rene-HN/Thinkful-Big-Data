{
  "nbformat": 4,
  "nbformat_minor": 0,
  "metadata": {
    "colab": {
      "name": "Checkpoint-3.ipynb",
      "provenance": []
    },
    "kernelspec": {
      "name": "python3",
      "display_name": "Python 3"
    }
  },
  "cells": [
    {
      "cell_type": "markdown",
      "metadata": {
        "id": "DVuqG7IMGa5J"
      },
      "source": [
        "# Big Data, Check Point 3: Credit Card Fraud Detection"
      ]
    },
    {
      "cell_type": "code",
      "metadata": {
        "colab": {
          "base_uri": "https://localhost:8080/",
          "height": 120
        },
        "id": "fZWViPLi-m5j",
        "outputId": "2ac4b899-9f2b-4fd8-83ba-e47ac0fae07e"
      },
      "source": [
        "from dask.distributed import Client, progress\n",
        "\n",
        "client = Client()\n",
        "client"
      ],
      "execution_count": 1,
      "outputs": [
        {
          "output_type": "execute_result",
          "data": {
            "text/html": [
              "<table style=\"border: 2px solid white;\">\n",
              "<tr>\n",
              "<td style=\"vertical-align: top; border: 0px solid white\">\n",
              "<h3 style=\"text-align: left;\">Client</h3>\n",
              "<ul style=\"text-align: left; list-style: none; margin: 0; padding: 0;\">\n",
              "  <li><b>Scheduler: </b>tcp://127.0.0.1:41451</li>\n",
              "  <li><b>Dashboard: </b><a href='http://127.0.0.1:8787/status' target='_blank'>http://127.0.0.1:8787/status</a></li>\n",
              "</ul>\n",
              "</td>\n",
              "<td style=\"vertical-align: top; border: 0px solid white\">\n",
              "<h3 style=\"text-align: left;\">Cluster</h3>\n",
              "<ul style=\"text-align: left; list-style:none; margin: 0; padding: 0;\">\n",
              "  <li><b>Workers: </b>2</li>\n",
              "  <li><b>Cores: </b>2</li>\n",
              "  <li><b>Memory: </b>13.65 GB</li>\n",
              "</ul>\n",
              "</td>\n",
              "</tr>\n",
              "</table>"
            ],
            "text/plain": [
              "<Client: 'tcp://127.0.0.1:41451' processes=2 threads=2, memory=13.65 GB>"
            ]
          },
          "metadata": {
            "tags": []
          },
          "execution_count": 1
        }
      ]
    },
    {
      "cell_type": "code",
      "metadata": {
        "id": "-rEknapGBUt6"
      },
      "source": [
        "import dask.dataframe as dd"
      ],
      "execution_count": 2,
      "outputs": []
    },
    {
      "cell_type": "code",
      "metadata": {
        "id": "8Yde-XpU-Utu"
      },
      "source": [
        "\n",
        "# This loads the data into a Dask DataFrame\n",
        "df = dd.read_csv('/content/drive/MyDrive/Thinkful/Big Data/creditcard.csv', \n",
        "                 dtype={'Time': 'float64'})"
      ],
      "execution_count": 4,
      "outputs": []
    },
    {
      "cell_type": "markdown",
      "metadata": {
        "id": "fi3lWknAG0Kv"
      },
      "source": [
        "## 1. How many transactions do we have in total?"
      ]
    },
    {
      "cell_type": "code",
      "metadata": {
        "colab": {
          "base_uri": "https://localhost:8080/"
        },
        "id": "hSTgWWxnBSG5",
        "outputId": "4997bbb7-cd8f-44bb-fab0-5eb4411955cb"
      },
      "source": [
        "from dask import compute\n",
        "\n",
        "compute(df.shape[0])"
      ],
      "execution_count": 6,
      "outputs": [
        {
          "output_type": "execute_result",
          "data": {
            "text/plain": [
              "(284807,)"
            ]
          },
          "metadata": {
            "tags": []
          },
          "execution_count": 6
        }
      ]
    },
    {
      "cell_type": "markdown",
      "metadata": {
        "id": "us2vXinMH-QC"
      },
      "source": [
        "There are 284807 transactions in our dataset."
      ]
    },
    {
      "cell_type": "markdown",
      "metadata": {
        "id": "8gGAw738ILgy"
      },
      "source": [
        "## 2. How many transactions are fraud and how many are not?"
      ]
    },
    {
      "cell_type": "code",
      "metadata": {
        "colab": {
          "base_uri": "https://localhost:8080/"
        },
        "id": "sBlyMdXw-Ylv",
        "outputId": "24d05d50-563f-42d7-ee5c-1d7cad1323af"
      },
      "source": [
        "df.groupby(\"Class\")[\"Time\"].count().compute()"
      ],
      "execution_count": 7,
      "outputs": [
        {
          "output_type": "execute_result",
          "data": {
            "text/plain": [
              "Class\n",
              "0    284315\n",
              "1       492\n",
              "Name: Time, dtype: int64"
            ]
          },
          "metadata": {
            "tags": []
          },
          "execution_count": 7
        }
      ]
    },
    {
      "cell_type": "markdown",
      "metadata": {
        "id": "UnhSF8IDIWHV"
      },
      "source": [
        "We have 492 fraud transactions."
      ]
    },
    {
      "cell_type": "markdown",
      "metadata": {
        "id": "5A8HeMphIedO"
      },
      "source": [
        "## 3. What is the maximum amount in fraud transactions?"
      ]
    },
    {
      "cell_type": "code",
      "metadata": {
        "colab": {
          "base_uri": "https://localhost:8080/"
        },
        "id": "ebqSYVts-hUZ",
        "outputId": "5a3fe48a-7c6d-4c41-c2f3-57e8281fa929"
      },
      "source": [
        "df[df.Class == 1][\"Amount\"].max().compute()"
      ],
      "execution_count": 8,
      "outputs": [
        {
          "output_type": "execute_result",
          "data": {
            "text/plain": [
              "2125.87"
            ]
          },
          "metadata": {
            "tags": []
          },
          "execution_count": 8
        }
      ]
    },
    {
      "cell_type": "markdown",
      "metadata": {
        "id": "FL6PfIfyI_EN"
      },
      "source": [
        "The maximum value of fraud tramsactions \"Amount\" 2125.87 units."
      ]
    },
    {
      "cell_type": "code",
      "metadata": {
        "id": "YCS1WJxHI79q"
      },
      "source": [
        ""
      ],
      "execution_count": null,
      "outputs": []
    }
  ]
}