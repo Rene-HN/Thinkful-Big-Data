{
 "cells": [
  {
   "cell_type": "markdown",
   "id": "framed-radical",
   "metadata": {},
   "source": [
    "# Big Data- Checkpoint 4\n",
    "In the following exercises, you'll be working with the code snippet below:\n",
    "\n",
    "1.   List item\n",
    "2.   List item\n",
    "\n",
    "\n",
    "\n",
    "```python\n",
    "%%timeit\n",
    "x = da.random.random((10000, 10000), chunks=(1000, 1000))\n",
    "y = x + x.T\n",
    "z = y[::2, 5000:].mean(axis=1)\n",
    "z.compute()\n",
    "```\n"
   ]
  },
  {
   "cell_type": "code",
   "execution_count": 1,
   "id": "eligible-property",
   "metadata": {},
   "outputs": [],
   "source": [
    "import dask.array as da"
   ]
  },
  {
   "cell_type": "markdown",
   "id": "fossil-kinase",
   "metadata": {},
   "source": [
    "## 2.Change the code above by setting chunks=(250, 250). How long does it take to run?"
   ]
  },
  {
   "cell_type": "code",
   "execution_count": 2,
   "id": "incredible-willow",
   "metadata": {},
   "outputs": [
    {
     "name": "stdout",
     "output_type": "stream",
     "text": [
      "1.26 s ± 26.9 ms per loop (mean ± std. dev. of 7 runs, 1 loop each)\n"
     ]
    }
   ],
   "source": [
    "%%timeit\n",
    "x = da.random.random((10000, 10000), chunks=(250, 250))\n",
    "y = x + x.T\n",
    "z = y[::2, 5000:].mean(axis=1)\n",
    "z.compute()"
   ]
  },
  {
   "cell_type": "markdown",
   "id": "reliable-broadcast",
   "metadata": {},
   "source": [
    "## 3.Now, set the parameter to chunks=(500, 500). How long does it take to run? Does this one or the previous one run more quickly? Why?"
   ]
  },
  {
   "cell_type": "code",
   "execution_count": 3,
   "id": "certified-presence",
   "metadata": {},
   "outputs": [
    {
     "name": "stdout",
     "output_type": "stream",
     "text": [
      "342 ms ± 11.5 ms per loop (mean ± std. dev. of 7 runs, 1 loop each)\n"
     ]
    }
   ],
   "source": [
    "%%timeit\n",
    "x = da.random.random((10000, 10000), chunks=(500, 500))\n",
    "y = x + x.T\n",
    "z = y[::2, 5000:].mean(axis=1)\n",
    "z.compute()"
   ]
  },
  {
   "cell_type": "markdown",
   "id": "present-difference",
   "metadata": {},
   "source": [
    "This one is fastes than the firsts, when we divide a Dask array into smaller chunks Dask needs to manage a higher number of chunks. This requires more computation. If our dataset can fit into memory as is in our case, then setting the chunk size to a larger number speeds up the computation."
   ]
  },
  {
   "cell_type": "code",
   "execution_count": null,
   "id": "generic-first",
   "metadata": {},
   "outputs": [],
   "source": []
  }
 ],
 "metadata": {
  "kernelspec": {
   "display_name": "rapids-0.17",
   "language": "python",
   "name": "rapids-0.17"
  },
  "language_info": {
   "codemirror_mode": {
    "name": "ipython",
    "version": 3
   },
   "file_extension": ".py",
   "mimetype": "text/x-python",
   "name": "python",
   "nbconvert_exporter": "python",
   "pygments_lexer": "ipython3",
   "version": "3.8.6"
  }
 },
 "nbformat": 4,
 "nbformat_minor": 5
}
